{
 "cells": [
  {
   "cell_type": "code",
   "execution_count": 13,
   "metadata": {},
   "outputs": [
    {
     "data": {
      "text/html": [
       "<div>\n",
       "<style scoped>\n",
       "    .dataframe tbody tr th:only-of-type {\n",
       "        vertical-align: middle;\n",
       "    }\n",
       "\n",
       "    .dataframe tbody tr th {\n",
       "        vertical-align: top;\n",
       "    }\n",
       "\n",
       "    .dataframe thead th {\n",
       "        text-align: right;\n",
       "    }\n",
       "</style>\n",
       "<table border=\"1\" class=\"dataframe\">\n",
       "  <thead>\n",
       "    <tr style=\"text-align: right;\">\n",
       "      <th></th>\n",
       "      <th>PatientID</th>\n",
       "      <th>age</th>\n",
       "      <th>clinical.T.Stage</th>\n",
       "      <th>Clinical.N.Stage</th>\n",
       "      <th>Clinical.M.Stage</th>\n",
       "      <th>Overall.Stage</th>\n",
       "      <th>Histology</th>\n",
       "      <th>gender</th>\n",
       "      <th>Survival.time</th>\n",
       "      <th>deadstatus</th>\n",
       "    </tr>\n",
       "  </thead>\n",
       "  <tbody>\n",
       "    <tr>\n",
       "      <th>0</th>\n",
       "      <td>LUNG1-001</td>\n",
       "      <td>78.7515</td>\n",
       "      <td>2.0</td>\n",
       "      <td>3</td>\n",
       "      <td>0</td>\n",
       "      <td>IIIb</td>\n",
       "      <td>large cell</td>\n",
       "      <td>male</td>\n",
       "      <td>2165</td>\n",
       "      <td>1</td>\n",
       "    </tr>\n",
       "    <tr>\n",
       "      <th>1</th>\n",
       "      <td>LUNG1-002</td>\n",
       "      <td>83.8001</td>\n",
       "      <td>2.0</td>\n",
       "      <td>0</td>\n",
       "      <td>0</td>\n",
       "      <td>I</td>\n",
       "      <td>squamous cell carcinoma</td>\n",
       "      <td>male</td>\n",
       "      <td>155</td>\n",
       "      <td>1</td>\n",
       "    </tr>\n",
       "    <tr>\n",
       "      <th>2</th>\n",
       "      <td>LUNG1-003</td>\n",
       "      <td>68.1807</td>\n",
       "      <td>2.0</td>\n",
       "      <td>3</td>\n",
       "      <td>0</td>\n",
       "      <td>IIIb</td>\n",
       "      <td>large cell</td>\n",
       "      <td>male</td>\n",
       "      <td>256</td>\n",
       "      <td>1</td>\n",
       "    </tr>\n",
       "    <tr>\n",
       "      <th>3</th>\n",
       "      <td>LUNG1-004</td>\n",
       "      <td>70.8802</td>\n",
       "      <td>2.0</td>\n",
       "      <td>1</td>\n",
       "      <td>0</td>\n",
       "      <td>II</td>\n",
       "      <td>squamous cell carcinoma</td>\n",
       "      <td>male</td>\n",
       "      <td>141</td>\n",
       "      <td>1</td>\n",
       "    </tr>\n",
       "    <tr>\n",
       "      <th>4</th>\n",
       "      <td>LUNG1-005</td>\n",
       "      <td>80.4819</td>\n",
       "      <td>4.0</td>\n",
       "      <td>2</td>\n",
       "      <td>0</td>\n",
       "      <td>IIIb</td>\n",
       "      <td>squamous cell carcinoma</td>\n",
       "      <td>male</td>\n",
       "      <td>353</td>\n",
       "      <td>1</td>\n",
       "    </tr>\n",
       "  </tbody>\n",
       "</table>\n",
       "</div>"
      ],
      "text/plain": [
       "   PatientID      age  clinical.T.Stage  Clinical.N.Stage  Clinical.M.Stage  \\\n",
       "0  LUNG1-001  78.7515               2.0                 3                 0   \n",
       "1  LUNG1-002  83.8001               2.0                 0                 0   \n",
       "2  LUNG1-003  68.1807               2.0                 3                 0   \n",
       "3  LUNG1-004  70.8802               2.0                 1                 0   \n",
       "4  LUNG1-005  80.4819               4.0                 2                 0   \n",
       "\n",
       "  Overall.Stage                Histology gender  Survival.time  deadstatus  \n",
       "0          IIIb               large cell   male           2165           1  \n",
       "1             I  squamous cell carcinoma   male            155           1  \n",
       "2          IIIb               large cell   male            256           1  \n",
       "3            II  squamous cell carcinoma   male            141           1  \n",
       "4          IIIb  squamous cell carcinoma   male            353           1  "
      ]
     },
     "execution_count": 13,
     "metadata": {},
     "output_type": "execute_result"
    }
   ],
   "source": [
    "import warnings\n",
    "warnings.filterwarnings(\"ignore\")\n",
    "import pandas as pd\n",
    "import numpy as np\n",
    "import scipy.stats as stats\n",
    "import pylab as pl\n",
    "dat=pd.read_csv('.\\\\Lung1.clinical.csv')\n",
    "dat.head()"
   ]
  },
  {
   "cell_type": "markdown",
   "metadata": {},
   "source": [
    "### Mean Value Imputation for entries with censored outcomes\n",
    "\n",
    "Mean survival time of uncensored patients under each 'Histology' category is used to impute the survival time of patients with censored outcomes."
   ]
  },
  {
   "cell_type": "code",
   "execution_count": 4,
   "metadata": {},
   "outputs": [],
   "source": [
    "dat_uncensored = dat[dat['deadstatus']==1]\n",
    "dat_censored = dat[dat['deadstatus']==0]\n",
    "\n",
    "squamous_cell_uncensored_mean = np.mean(dat[(dat['Histology']=='squamous cell carcinoma') & dat['deadstatus']==1]['Survival.time'])\n",
    "large_cell_mean = np.mean(dat[(dat['Histology']=='large cell') & dat['deadstatus']==1]['Survival.time'])\n",
    "adenocarcinoma_mean = np.mean(dat[(dat['Histology']=='adenocarcinoma') & dat['deadstatus']==1]['Survival.time'])\n",
    "nos_mean = np.mean(dat[(dat['Histology']=='nos') & dat['deadstatus']==1]['Survival.time'])\n",
    "all_mean = np.mean(dat[dat['deadstatus']==1]['Survival.time'])\n",
    "\n",
    "dat_scc_censored = dat[(dat['Histology']=='squamous cell carcinoma') & (dat['deadstatus']==0)]\n",
    "dat_lc_censored = dat[(dat['Histology']=='large cell') & (dat['deadstatus']==0)]\n",
    "dat_nos_censored = dat[(dat['Histology']=='nos') & (dat['deadstatus']==0)]\n",
    "dat_ac_censored = dat[(dat['Histology']=='adenocarcinoma') & (dat['deadstatus']==0)]\n",
    "dat_na_censored = dat[(dat['Histology'].isnull()) & (dat['deadstatus']==0)]\n",
    "\n",
    "dat_scc_censored['imputed_survival'] = np.where(dat_scc_censored['Survival.time'] >= squamous_cell_uncensored_mean , dat_scc_censored['Survival.time'], squamous_cell_uncensored_mean)\n",
    "dat_lc_censored['imputed_survival'] = np.where(dat_lc_censored['Survival.time'] >= large_cell_mean , dat_lc_censored['Survival.time'], large_cell_mean)\n",
    "dat_nos_censored['imputed_survival'] = np.where(dat_nos_censored['Survival.time'] >= nos_mean , dat_nos_censored['Survival.time'], nos_mean)\n",
    "dat_ac_censored['imputed_survival'] = np.where(dat_ac_censored['Survival.time'] >= adenocarcinoma_mean , dat_ac_censored['Survival.time'], adenocarcinoma_mean)\n",
    "dat_na_censored['imputed_survival'] = np.where(dat_na_censored['Survival.time'] >= all_mean , dat_na_censored['Survival.time'], all_mean)\n",
    "\n",
    "dat_censored = pd.concat([dat_scc_censored,dat_lc_censored,dat_nos_censored,dat_ac_censored, dat_na_censored ])"
   ]
  },
  {
   "cell_type": "code",
   "execution_count": 5,
   "metadata": {},
   "outputs": [
    {
     "data": {
      "text/html": [
       "<div>\n",
       "<style scoped>\n",
       "    .dataframe tbody tr th:only-of-type {\n",
       "        vertical-align: middle;\n",
       "    }\n",
       "\n",
       "    .dataframe tbody tr th {\n",
       "        vertical-align: top;\n",
       "    }\n",
       "\n",
       "    .dataframe thead th {\n",
       "        text-align: right;\n",
       "    }\n",
       "</style>\n",
       "<table border=\"1\" class=\"dataframe\">\n",
       "  <thead>\n",
       "    <tr style=\"text-align: right;\">\n",
       "      <th></th>\n",
       "      <th>PatientID</th>\n",
       "      <th>age</th>\n",
       "      <th>clinical.T.Stage</th>\n",
       "      <th>Clinical.N.Stage</th>\n",
       "      <th>Clinical.M.Stage</th>\n",
       "      <th>Overall.Stage</th>\n",
       "      <th>Histology</th>\n",
       "      <th>gender</th>\n",
       "      <th>Survival.time</th>\n",
       "      <th>deadstatus</th>\n",
       "      <th>imputed_survival</th>\n",
       "    </tr>\n",
       "  </thead>\n",
       "  <tbody>\n",
       "    <tr>\n",
       "      <th>9</th>\n",
       "      <td>LUNG1-010</td>\n",
       "      <td>71.0554</td>\n",
       "      <td>4.0</td>\n",
       "      <td>3</td>\n",
       "      <td>0</td>\n",
       "      <td>IIIb</td>\n",
       "      <td>squamous cell carcinoma</td>\n",
       "      <td>female</td>\n",
       "      <td>2119</td>\n",
       "      <td>0</td>\n",
       "      <td>2119.0</td>\n",
       "    </tr>\n",
       "    <tr>\n",
       "      <th>26</th>\n",
       "      <td>LUNG1-027</td>\n",
       "      <td>70.1684</td>\n",
       "      <td>1.0</td>\n",
       "      <td>0</td>\n",
       "      <td>0</td>\n",
       "      <td>I</td>\n",
       "      <td>squamous cell carcinoma</td>\n",
       "      <td>male</td>\n",
       "      <td>1972</td>\n",
       "      <td>0</td>\n",
       "      <td>1972.0</td>\n",
       "    </tr>\n",
       "    <tr>\n",
       "      <th>31</th>\n",
       "      <td>LUNG1-032</td>\n",
       "      <td>75.6934</td>\n",
       "      <td>2.0</td>\n",
       "      <td>0</td>\n",
       "      <td>0</td>\n",
       "      <td>I</td>\n",
       "      <td>squamous cell carcinoma</td>\n",
       "      <td>male</td>\n",
       "      <td>525</td>\n",
       "      <td>0</td>\n",
       "      <td>525.0</td>\n",
       "    </tr>\n",
       "    <tr>\n",
       "      <th>46</th>\n",
       "      <td>LUNG1-047</td>\n",
       "      <td>46.5024</td>\n",
       "      <td>2.0</td>\n",
       "      <td>2</td>\n",
       "      <td>0</td>\n",
       "      <td>IIIa</td>\n",
       "      <td>squamous cell carcinoma</td>\n",
       "      <td>male</td>\n",
       "      <td>1810</td>\n",
       "      <td>0</td>\n",
       "      <td>1810.0</td>\n",
       "    </tr>\n",
       "    <tr>\n",
       "      <th>60</th>\n",
       "      <td>LUNG1-061</td>\n",
       "      <td>62.1218</td>\n",
       "      <td>2.0</td>\n",
       "      <td>3</td>\n",
       "      <td>0</td>\n",
       "      <td>IIIb</td>\n",
       "      <td>squamous cell carcinoma</td>\n",
       "      <td>male</td>\n",
       "      <td>1573</td>\n",
       "      <td>0</td>\n",
       "      <td>1573.0</td>\n",
       "    </tr>\n",
       "  </tbody>\n",
       "</table>\n",
       "</div>"
      ],
      "text/plain": [
       "    PatientID      age  clinical.T.Stage  Clinical.N.Stage  Clinical.M.Stage  \\\n",
       "9   LUNG1-010  71.0554               4.0                 3                 0   \n",
       "26  LUNG1-027  70.1684               1.0                 0                 0   \n",
       "31  LUNG1-032  75.6934               2.0                 0                 0   \n",
       "46  LUNG1-047  46.5024               2.0                 2                 0   \n",
       "60  LUNG1-061  62.1218               2.0                 3                 0   \n",
       "\n",
       "   Overall.Stage                Histology  gender  Survival.time  deadstatus  \\\n",
       "9           IIIb  squamous cell carcinoma  female           2119           0   \n",
       "26             I  squamous cell carcinoma    male           1972           0   \n",
       "31             I  squamous cell carcinoma    male            525           0   \n",
       "46          IIIa  squamous cell carcinoma    male           1810           0   \n",
       "60          IIIb  squamous cell carcinoma    male           1573           0   \n",
       "\n",
       "    imputed_survival  \n",
       "9             2119.0  \n",
       "26            1972.0  \n",
       "31             525.0  \n",
       "46            1810.0  \n",
       "60            1573.0  "
      ]
     },
     "execution_count": 5,
     "metadata": {},
     "output_type": "execute_result"
    }
   ],
   "source": [
    "dat_censored.head()"
   ]
  },
  {
   "cell_type": "markdown",
   "metadata": {},
   "source": [
    "### Calculate 2 year survival"
   ]
  },
  {
   "cell_type": "code",
   "execution_count": 9,
   "metadata": {
    "collapsed": true
   },
   "outputs": [],
   "source": [
    "dat_censored['2_year_survival'] = dat_censored['Survival.time'] - 730\n",
    "dat_uncensored['2_year_survival'] = dat_uncensored['Survival.time'] - 730\n",
    "df1 = dat_censored[['PatientID', '2_year_survival']]\n",
    "df2 = dat_uncensored[['PatientID', '2_year_survival']]\n",
    "dat_all = pd.concat([df1,df2])"
   ]
  },
  {
   "cell_type": "code",
   "execution_count": 10,
   "metadata": {
    "collapsed": true
   },
   "outputs": [],
   "source": [
    "dat_all.to_csv('dat_all.csv')"
   ]
  },
  {
   "cell_type": "code",
   "execution_count": 14,
   "metadata": {},
   "outputs": [
    {
     "data": {
      "image/png": "[encoded data removed]",
      "text/plain": [
       "<Figure size 432x288 with 1 Axes>"
      ]
     },
     "metadata": {},
     "output_type": "display_data"
    }
   ],
   "source": [
    "h = sorted(list(dat_all['2_year_survival']))\n",
    "fit = stats.norm.pdf(h, np.mean(h), np.std(h)) \n",
    "pl.plot(h,fit,'-o')\n",
    "pl.hist(h,normed=True) \n",
    "pl.show()"
   ]
  },
  {
   "cell_type": "markdown",
   "metadata": {},
   "source": [
    "### Data is further grouped into 2 classes"
   ]
  },
  {
   "cell_type": "code",
   "execution_count": 12,
   "metadata": {
    "collapsed": true
   },
   "outputs": [],
   "source": [
    "dat_all['class']=np.where(\n",
    "dat_all['2_year_survival'] > 0, 1, 0)"
   ]
  },
  {
   "cell_type": "code",
   "execution_count": 15,
   "metadata": {},
   "outputs": [
    {
     "data": {
      "image/png": "[encoded data removed]",
      "text/plain": [
       "<Figure size 432x288 with 1 Axes>"
      ]
     },
     "metadata": {},
     "output_type": "display_data"
    }
   ],
   "source": [
    "h = sorted(list(dat_all['class']))\n",
    "fit = stats.norm.pdf(h, np.mean(h), np.std(h)) \n",
    "pl.plot(h,fit,'-o')\n",
    "pl.hist(h,normed=True) \n",
    "pl.show()"
   ]
  },
  {
   "cell_type": "code",
   "execution_count": null,
   "metadata": {
    "collapsed": true
   },
   "outputs": [],
   "source": []
  }
 ],
 "metadata": {
  "kernelspec": {
   "display_name": "Python 3",
   "language": "python",
   "name": "python3"
  },
  "language_info": {
   "codemirror_mode": {
    "name": "ipython",
    "version": 3
   },
   "file_extension": ".py",
   "mimetype": "text/x-python",
   "name": "python",
   "nbconvert_exporter": "python",
   "pygments_lexer": "ipython3",
   "version": "3.6.1"
  }
 },
 "nbformat": 4,
 "nbformat_minor": 2
}
