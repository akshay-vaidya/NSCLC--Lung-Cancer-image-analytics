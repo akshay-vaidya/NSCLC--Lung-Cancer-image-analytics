{
 "cells": [
  {
   "cell_type": "code",
   "execution_count": 14,
   "metadata": {
    "collapsed": true
   },
   "outputs": [],
   "source": [
    "import warnings\n",
    "warnings.filterwarnings(\"ignore\")\n",
    "import sys,os\n",
    "import numpy as np\n",
    "import dicom\n",
    "import glob\n",
    "import matplotlib\n",
    "from matplotlib import pyplot as plt\n",
    "import cv2\n",
    "import pandas as pd\n",
    "import time\n",
    "import h5py\n",
    "from sklearn import cross_validation\n",
    "from keras.applications.resnet50 import preprocess_input, decode_predictions, ResNet50\n",
    "from keras import backend as K\n",
    "from os import environ\n",
    "import keras\n",
    "from keras.preprocessing import image"
   ]
  },
  {
   "cell_type": "markdown",
   "metadata": {},
   "source": [
    "### Function to extract 3d image from the slices"
   ]
  },
  {
   "cell_type": "code",
   "execution_count": 18,
   "metadata": {
    "collapsed": true
   },
   "outputs": [],
   "source": [
    "def get_3d_data(p):\n",
    "    path = INPUT_FOLDER + '\\\\' + p\n",
    "    p1 = os.listdir(path)[0]\n",
    "    p2 = os.listdir(path + '\\\\' + p1)\n",
    "    files= os.listdir(path + '\\\\' + p1 + '\\\\' + p2[0]) \n",
    "    if len(files) > 1:\n",
    "        slices = [dicom.read_file(path + '\\\\' +p1 + '\\\\' + p2[0] + '\\\\' + s) for s in os.listdir(path + '\\\\' +p1 + '\\\\' + p2[0])]\n",
    "    else:\n",
    "        slices = [dicom.read_file(path + '\\\\' +p1 + '\\\\' + p2[1] + '\\\\' + s) for s in os.listdir(path + '\\\\' +p1 + '\\\\' + p2[1])]\n",
    "    slices.sort(key=lambda x: int(x.InstanceNumber))\n",
    "    return np.stack([s.pixel_array for s in slices])"
   ]
  },
  {
   "cell_type": "markdown",
   "metadata": {},
   "source": [
    "## Functions for random augmentations"
   ]
  },
  {
   "cell_type": "code",
   "execution_count": 19,
   "metadata": {
    "collapsed": true
   },
   "outputs": [],
   "source": [
    "import scipy.ndimage\n",
    "import random\n",
    "def random_rotation(im):\n",
    "    return scipy.ndimage.interpolation.rotate(im, angle=20, axes=(1, 2), reshape=False)\n",
    "\n",
    "def random_shift(im):\n",
    "    return scipy.ndimage.interpolation.shift(im, shift=10)"
   ]
  },
  {
   "cell_type": "code",
   "execution_count": 20,
   "metadata": {
    "collapsed": true
   },
   "outputs": [],
   "source": [
    "def random_augmentations(num_transformations_to_apply, image_to_transform):\n",
    "    available_transformations = {\n",
    "        'rotate': random_rotation,\n",
    "        'shift': random_shift\n",
    "        }\n",
    "\n",
    "    if num_transformations_to_apply==1:\n",
    "        key = random.choice(list(available_transformations))\n",
    "        transformed_image = available_transformations[key](image_to_transform)\n",
    "    else:\n",
    "        transformed_image = random_rotation(image_to_transform)\n",
    "        transformed_image = random_shift(transformed_image)\n",
    "    return transformed_image"
   ]
  },
  {
   "cell_type": "markdown",
   "metadata": {},
   "source": [
    "### Function to extract image cubes to be passed as input the CNN model"
   ]
  },
  {
   "cell_type": "code",
   "execution_count": 21,
   "metadata": {
    "collapsed": true
   },
   "outputs": [],
   "source": [
    "def get_image_cubes(patient):\n",
    "    scan_img = get_3d_data(patient)\n",
    "    scan_img[scan_img == -2000] = 0\n",
    "    scan_img = random_augmentations(random.randint(1,2), scan_img)\n",
    "    img_cubes = []\n",
    "    for i in range(0, scan_img.shape[0] - 3, 3):\n",
    "        tmp = []\n",
    "        for j in range(3):\n",
    "            img = scan_img[i + j] \n",
    "            img = 255.0 / np.amax(img) * img #Pixel Normalization\n",
    "            img = cv2.equalizeHist(img.astype(np.uint8)) #Histogram equalization\n",
    "            img = img.astype(np.uint8)\n",
    "            img = img[50: 450, 50: 450] # Crop image\n",
    "            img = cv2.resize(img, (224, 224))\n",
    "            tmp.append(img)\n",
    "        tmp = np.array(tmp)\n",
    "        tmp = np.swapaxes(tmp,0,2)\n",
    "        img_cubes.append(np.array(tmp))   \n",
    "    img_cubes = np.array(img_cubes, dtype='int')\n",
    "    return img_cubes"
   ]
  },
  {
   "cell_type": "markdown",
   "metadata": {},
   "source": [
    "### Extract features from Inception model (pretrained imagenet weights)"
   ]
  },
  {
   "cell_type": "code",
   "execution_count": 22,
   "metadata": {},
   "outputs": [],
   "source": [
    "from keras.models import Model\n",
    "model = InceptionV3(weights='imagenet', include_top=True)\n",
    "output = model.get_layer ('max_pooling2d_4').output\n",
    "inc_model = Model(model.input, output)"
   ]
  },
  {
   "cell_type": "code",
   "execution_count": 23,
   "metadata": {},
   "outputs": [],
   "source": [
    "INPUT_FOLDER = '.\\\\NSCLC-Radiomics\\\\'\n",
    "patients = os.listdir(INPUT_FOLDER)\n",
    "model = ResNet50(weights='imagenet', include_top=False)\n",
    "for patient in patients:\n",
    "    a= get_image_cubes(patient)\n",
    "    feat_fold = '.\\\\inception_features_with_augmentations\\\\'\n",
    "    feats = inc_model.predict(img_cubes, verbose=1)\n",
    "    feats = np.mean(feats,axis=0).flatten() # Average pool & Flatten operation\n",
    "    np.save(os.path.join(feat_fold, patient), feats)\n",
    "    break"
   ]
  },
  {
   "cell_type": "markdown",
   "metadata": {
    "collapsed": true
   },
   "source": [
    "### Splitting training and test dataset (Maintaining the same data distribution)"
   ]
  },
  {
   "cell_type": "code",
   "execution_count": 24,
   "metadata": {},
   "outputs": [],
   "source": [
    "import pandas as pd\n",
    "dat_all=pd.read_csv('dat_all.csv')\n",
    "import random\n",
    "class1 = list(dat_all[dat_all['class']==0]['PatientID'])\n",
    "class2 = list(dat_all[dat_all['class']==1]['PatientID'])\n",
    "class1_test = class1[0:int((len(class1)) * 0.2)]\n",
    "class2_test = class2[0:int((len(class2)) * 0.2)]\n",
    "test_data = class1_test + class2_test \n",
    "train_data = [x for x in dat_all['PatientID'] if x not in test_data]\n",
    "train_data_labels =[]\n",
    "for a in train_data:\n",
    "    train_data_labels.append(list(dat_all[dat_all['PatientID']==a]['class'])[0])\n",
    "test_data_labels = []\n",
    "for a in test_data:\n",
    "    test_data_labels.append(list(dat_all[dat_all['PatientID']==a]['class'])[0])"
   ]
  },
  {
   "cell_type": "markdown",
   "metadata": {
    "collapsed": true
   },
   "source": [
    "### Add random augmentations of images from minority class (an approach to balance the dataset) to original dataset"
   ]
  },
  {
   "cell_type": "code",
   "execution_count": 25,
   "metadata": {},
   "outputs": [],
   "source": [
    "x1 = [np.load('./inception_cnn_features/' + idd + '.npy') for idd in train_data]\n",
    "x1_aug = [np.load('./inc_cnn_augmentations/' + idd + '.npy') for idd in train_data]\n",
    "y1= l= train_data_labels\n",
    "for a in [n for n,x in enumerate(l) if x== 1]:\n",
    "    x1.append(x1[a])\n",
    "    y1.append(train_data_labels[a])\n",
    "x1= np.array(x1)\n",
    "y1= np.array(y1)"
   ]
  },
  {
   "cell_type": "code",
   "execution_count": 26,
   "metadata": {
    "collapsed": true
   },
   "outputs": [],
   "source": [
    "encoder = LabelEncoder()\n",
    "encoder.fit(y1)\n",
    "encoded_Y = encoder.transform(y1)\n",
    "# convert integers to dummy variables (i.e. one hot encoded)\n",
    "dummy_y = np_utils.to_categorical(encoded_Y)"
   ]
  },
  {
   "cell_type": "markdown",
   "metadata": {},
   "source": [
    "### Train Concolution model on features from maxpooling layer in inception model"
   ]
  },
  {
   "cell_type": "code",
   "execution_count": 52,
   "metadata": {
    "collapsed": true
   },
   "outputs": [],
   "source": [
    "def create_model():   \n",
    "    model = Sequential()\n",
    "    model.add(Convolution2D(32, 3, 3, activation='relu', input_shape=(25,25,192)))\n",
    "    model.add(ZeroPadding2D((1,1)))\n",
    "    model.add(Convolution2D(32, 3, 3, activation='relu'))\n",
    "    model.add(ZeroPadding2D((1,1)))\n",
    "    model.add(Convolution2D(32, 3, 3, activation='relu'))\n",
    "    model.add(MaxPooling2D((2,2), strides=(2,2)))\n",
    "    model.add(Flatten())\n",
    "    model.add(Dense(64, activation='relu'))\n",
    "    model.add(Dropout(0.5))\n",
    "    model.add(Dense(32, activation='relu'))\n",
    "    model.add(Dropout(0.5))\n",
    "    model.add(Dense(2, activation='softmax'))\n",
    "    sgd = SGD(lr=0.0005, decay=1e-6, momentum=0.9, nesterov=True)\n",
    "    model.compile(loss='binary_crossentropy', optimizer=sgd, metrics=['accuracy'])\n",
    "    return model"
   ]
  },
  {
   "cell_type": "code",
   "execution_count": 27,
   "metadata": {
    "collapsed": true
   },
   "outputs": [],
   "source": [
    "model = create_model()"
   ]
  },
  {
   "cell_type": "code",
   "execution_count": 24,
   "metadata": {},
   "outputs": [
    {
     "name": "stdout",
     "output_type": "stream",
     "text": [
      "Train on 540 samples, validate on 136 samples\n",
      "Epoch 1/20\n",
      "800/800 [==============================] - 405s 507ms/step - loss: 1.2389 - acc: 0.4726 - val_loss: 0.9968 - val_acc: 0.4191\n",
      "\n",
      "Epoch 00001: val_loss improved from inf to 0.99677, saving model to lung_cancer_lifetime_inceptions_augmentations.h5\n",
      "Epoch 2/20\n",
      "800/800 [==============================] - 506s 633ms/step - loss: 1.0017 - acc: 0.6338 - val_loss: 0.9305 - val_acc: 0.5221\n",
      "\n",
      "Epoch 00002: val_loss improved from 0.99677 to 0.93052, saving model to lung_cancer_lifetime_inceptions_augmentations.h5\n",
      "Epoch 3/20\n",
      "800/800 [==============================] - 515s 644ms/step - loss: 0.8128 - acc: 0.7413 - val_loss: 0.7953 - val_acc: 0.6324\n",
      "\n",
      "Epoch 00003: val_loss improved from 0.93052 to 0.79531, saving model to lung_cancer_lifetime_inceptions_augmentations.h5\n",
      "Epoch 4/20\n",
      "800/800 [==============================] - 553s 692ms/step - loss: 0.6190 - acc: 0.8305 - val_loss: 0.6959 - val_acc: 0.7132\n",
      "\n",
      "Epoch 00004: val_loss improved from 0.79531 to 0.69586, saving model to lung_cancer_lifetime_inceptions_augmentations.h5\n",
      "Epoch 5/20\n",
      "800/800 [==============================] - 568s 711ms/step - loss: 0.4450 - acc: 0.8970 - val_loss: 0.5903 - val_acc: 0.8015\n",
      "\n",
      "Epoch 00005: val_loss improved from 0.69586 to 0.59030, saving model to lung_cancer_lifetime_inceptions_augmentations.h5\n",
      "Epoch 6/20\n",
      "800/800 [==============================] - 546s 682ms/step - loss: 0.3102 - acc: 0.9391 - val_loss: 0.5308 - val_acc: 0.8529\n",
      "\n",
      "Epoch 00006: val_loss improved from 0.59030 to 0.53084, saving model to lung_cancer_lifetime_inceptions_augmentations.h5\n",
      "Epoch 7/20\n",
      "800/800 [==============================] - 557s 697ms/step - loss: 0.2175 - acc: 0.9638 - val_loss: 0.4996 - val_acc: 0.8824\n",
      "\n",
      "Epoch 00007: val_loss improved from 0.53084 to 0.49963, saving model to lung_cancer_lifetime_inceptions_augmentations.h5\n",
      "Epoch 8/20\n",
      "800/800 [==============================] - 532s 664ms/step - loss: 0.1545 - acc: 0.9786 - val_loss: 0.4741 - val_acc: 0.8824\n",
      "\n",
      "Epoch 00008: val_loss improved from 0.49963 to 0.47413, saving model to lung_cancer_lifetime_inceptions_augmentations.h5\n",
      "Epoch 9/20\n",
      "800/800 [==============================] - 555s 694ms/step - loss: 0.1137 - acc: 0.9865 - val_loss: 0.4651 - val_acc: 0.9044\n",
      "\n",
      "Epoch 00009: val_loss improved from 0.47413 to 0.46508, saving model to lung_cancer_lifetime_inceptions_augmentations.h5\n",
      "Epoch 10/20\n",
      "800/800 [==============================] - 553s 691ms/step - loss: 0.0860 - acc: 0.9913 - val_loss: 0.4552 - val_acc: 0.9044\n",
      "\n",
      "Epoch 00010: val_loss improved from 0.46508 to 0.45522, saving model to lung_cancer_lifetime_inceptions_augmentations.h5\n",
      "Epoch 11/20\n",
      "800/800 [==============================] - 537s 672ms/step - loss: 0.0676 - acc: 0.9943 - val_loss: 0.4606 - val_acc: 0.9044\n",
      "\n",
      "Epoch 00011: val_loss did not improve\n",
      "Epoch 12/20\n",
      "800/800 [==============================] - 562s 703ms/step - loss: 0.0540 - acc: 0.9962 - val_loss: 0.4611 - val_acc: 0.9118\n",
      "\n",
      "Epoch 00012: val_loss did not improve\n",
      "Epoch 13/20\n",
      "800/800 [==============================] - 548s 685ms/step - loss: 0.0443 - acc: 0.9973 - val_loss: 0.4588 - val_acc: 0.9118\n",
      "\n",
      "Epoch 00013: val_loss did not improve\n",
      "Epoch 14/20\n",
      "800/800 [==============================] - 550s 688ms/step - loss: 0.0372 - acc: 0.9979 - val_loss: 0.4627 - val_acc: 0.9118\n",
      "\n",
      "Epoch 00014: val_loss did not improve\n",
      "Epoch 15/20\n",
      "800/800 [==============================] - 544s 680ms/step - loss: 0.0317 - acc: 0.9985 - val_loss: 0.4728 - val_acc: 0.9118\n",
      "\n",
      "Epoch 00015: val_loss did not improve\n",
      "Epoch 00015: early stopping\n"
     ]
    }
   ],
   "source": [
    "callbacks = [EarlyStopping(monitor='val_loss', min_delta=10**-7, patience=5, verbose=1, mode='auto'),\n",
    "                ModelCheckpoint('lung_cancer_lifetime_inceptions_augmentations.h5', monitor='val_loss', verbose=1, save_best_only=True, save_weights_only=False, mode='auto', period=1)]\n",
    "history=model.fit(x1,dummy_y, steps_per_epoch= 800,validation_steps=10, epochs=20, verbose=1, validation_split=0.2, shuffle= True, callbacks=callbacks)"
   ]
  },
  {
   "cell_type": "code",
   "execution_count": 26,
   "metadata": {},
   "outputs": [
    {
     "name": "stdout",
     "output_type": "stream",
     "text": [
      "['acc', 'loss', 'val_acc', 'val_loss']\n"
     ]
    },
    {
     "data": {
      "image/png": "[encoded data removed]",
      "text/plain": [
       "<matplotlib.figure.Figure at 0x7fdc50999750>"
      ]
     },
     "metadata": {},
     "output_type": "display_data"
    },
    {
     "data": {
      "image/png": "[encoded data removed]",
      "text/plain": [
       "<matplotlib.figure.Figure at 0x7fdcb8596910>"
      ]
     },
     "metadata": {},
     "output_type": "display_data"
    }
   ],
   "source": [
    "# list all data in history\n",
    "print(history.history.keys())\n",
    "# summarize history for accuracy\n",
    "plt.plot(history.history['acc'])\n",
    "plt.plot(history.history['val_acc'])\n",
    "plt.title('model accuracy')\n",
    "plt.ylabel('accuracy')\n",
    "plt.xlabel('epoch')\n",
    "plt.legend(['train', 'test'], loc='upper left')\n",
    "plt.show()\n",
    "# summarize history for loss\n",
    "plt.plot(history.history['loss'])\n",
    "plt.plot(history.history['val_loss'])\n",
    "plt.title('model loss')\n",
    "plt.ylabel('loss')\n",
    "plt.xlabel('epoch')\n",
    "plt.legend(['train', 'test'], loc='upper left')\n",
    "plt.show()"
   ]
  },
  {
   "cell_type": "markdown",
   "metadata": {},
   "source": [
    "## Evaluating Model on test data"
   ]
  },
  {
   "cell_type": "code",
   "execution_count": 27,
   "metadata": {
    "collapsed": true
   },
   "outputs": [],
   "source": [
    "test_x = np.array([np.load('./inc_cnn_augmentations/' + idd + '.npy') for idd in test_data])\n",
    "test_y = np.array(test_data_labels)"
   ]
  },
  {
   "cell_type": "code",
   "execution_count": 28,
   "metadata": {
    "collapsed": true
   },
   "outputs": [],
   "source": [
    "# encode class values as integers\n",
    "encoder = LabelEncoder()\n",
    "encoder.fit(test_y)\n",
    "encoded_Y = encoder.transform(test_y)\n",
    "dummy_test_y = np_utils.to_categorical(encoded_Y)"
   ]
  },
  {
   "cell_type": "code",
   "execution_count": 29,
   "metadata": {},
   "outputs": [
    {
     "name": "stdout",
     "output_type": "stream",
     "text": [
      "84/84 [==============================] - 0s 546us/step\n",
      "[0.9549581209818522, 0.7857142871334439]\n",
      "['loss', 'acc']\n"
     ]
    }
   ],
   "source": [
    "print (model.evaluate(test_x,dummy_test_y, verbose=1))\n",
    "\n",
    "print (model.metrics_names)"
   ]
  },
  {
   "cell_type": "code",
   "execution_count": 30,
   "metadata": {
    "collapsed": true
   },
   "outputs": [],
   "source": [
    "y_pred_keras = model.predict_proba(test_x)"
   ]
  },
  {
   "cell_type": "code",
   "execution_count": 31,
   "metadata": {
    "collapsed": true
   },
   "outputs": [],
   "source": [
    "y_pred =[]\n",
    "for a in y_pred_keras:\n",
    "    if a[0] > a[1]:\n",
    "        y_pred.append(0)\n",
    "    else:\n",
    "        y_pred.append(1)\n",
    "y_pred = np.array(y_pred)"
   ]
  },
  {
   "cell_type": "markdown",
   "metadata": {
    "collapsed": true
   },
   "source": [
    "### ROC curve"
   ]
  },
  {
   "cell_type": "code",
   "execution_count": 32,
   "metadata": {
    "collapsed": true
   },
   "outputs": [],
   "source": [
    "from sklearn.metrics import roc_curve, auc\n",
    "y_pred_keras = model.predict_proba(test_x)\n",
    "fpr_keras_resnet, tpr_keras_resnet, thresholds_keras = roc_curve(test_y.ravel(), y_pred.ravel())\n",
    "roc_auc = auc(fpr_keras_resnet, tpr_keras_resnet)"
   ]
  },
  {
   "cell_type": "code",
   "execution_count": 33,
   "metadata": {},
   "outputs": [
    {
     "data": {
      "image/png": "[encoded data removed]",
      "text/plain": [
       "<matplotlib.figure.Figure at 0x7fdc4c930190>"
      ]
     },
     "metadata": {},
     "output_type": "display_data"
    }
   ],
   "source": [
    "plt.figure()\n",
    "lw = 2\n",
    "plt.plot(fpr_keras_resnet, tpr_keras_resnet, color='darkorange',\n",
    "         lw=lw, label='ROC curve (area = %0.2f)' % roc_auc)\n",
    "plt.plot([0, 1], [0, 1], color='navy', lw=lw, linestyle='--')\n",
    "plt.xlim([0.0, 1.0])\n",
    "plt.ylim([0.0, 1.05])\n",
    "plt.xlabel('False Positive Rate')\n",
    "plt.ylabel('True Positive Rate')\n",
    "plt.title('Receiver operating characteristic example')\n",
    "plt.legend(loc=\"lower right\")\n",
    "plt.show()"
   ]
  },
  {
   "cell_type": "markdown",
   "metadata": {},
   "source": [
    "### ROC-AUC Confidence intervals"
   ]
  },
  {
   "cell_type": "code",
   "execution_count": 28,
   "metadata": {
    "collapsed": true
   },
   "outputs": [],
   "source": [
    "from sklearn.metrics import roc_auc_score\n",
    "n_bootstraps = 1000\n",
    "rng_seed = 42  # control reproducibility\n",
    "bootstrapped_scores = []\n",
    "\n",
    "rng = np.random.RandomState(rng_seed)\n",
    "for i in range(n_bootstraps):\n",
    "    # bootstrap by sampling with replacement on the prediction indices\n",
    "    indices = rng.random_integers(0, len(y_pred.ravel()) - 1, len(y_pred.ravel()))\n",
    "    if len(np.unique(test_y.ravel()[indices])) < 2:\n",
    "        # We need at least one positive and one negative sample for ROC AUC\n",
    "        # to be defined: reject the sample\n",
    "        continue\n",
    "\n",
    "    score = roc_auc_score(test_y.ravel()[indices], y_pred.ravel()[indices])\n",
    "    bootstrapped_scores.append(score)"
   ]
  },
  {
   "cell_type": "code",
   "execution_count": 30,
   "metadata": {},
   "outputs": [
    {
     "data": {
      "image/png": "[encoded data removed]",
      "text/plain": [
       "<Figure size 432x288 with 1 Axes>"
      ]
     },
     "metadata": {},
     "output_type": "display_data"
    }
   ],
   "source": [
    "import matplotlib.pyplot as plt\n",
    "plt.hist(bootstrapped_scores, bins=50)\n",
    "plt.title('Histogram of the bootstrapped ROC AUC scores')\n",
    "plt.show()"
   ]
  },
  {
   "cell_type": "code",
   "execution_count": 31,
   "metadata": {},
   "outputs": [
    {
     "name": "stdout",
     "output_type": "stream",
     "text": [
      "0.54296388543\n",
      "0.777085927771\n"
     ]
    }
   ],
   "source": [
    "sorted_scores = np.array(bootstrapped_scores)\n",
    "sorted_scores.sort()\n",
    "\n",
    "\n",
    "# 95% confidence interval.\n",
    "confidence_lower = sorted_scores[int(0.025 * len(sorted_scores))]\n",
    "confidence_upper = sorted_scores[int(0.975 * len(sorted_scores))]\n",
    "print (confidence_lower)\n",
    "print (confidence_upper)"
   ]
  },
  {
   "cell_type": "markdown",
   "metadata": {},
   "source": [
    "### Confusion Matrix"
   ]
  },
  {
   "cell_type": "code",
   "execution_count": 35,
   "metadata": {},
   "outputs": [
    {
     "name": "stdout",
     "output_type": "stream",
     "text": [
      "[[0.89230769 0.10769231]\n",
      " [0.57894737 0.42105263]]\n"
     ]
    },
    {
     "data": {
      "image/png": "[encoded data removed]",
      "text/plain": [
       "<matplotlib.figure.Figure at 0x7fdc5aeee490>"
      ]
     },
     "metadata": {},
     "output_type": "display_data"
    }
   ],
   "source": [
    "preds = []\n",
    "for a in y_pred_keras:\n",
    "    if a[0] > a[1]:\n",
    "        preds.append(0)\n",
    "    else:\n",
    "        preds.append(1)\n",
    "from sklearn.metrics import confusion_matrix\n",
    "\n",
    "labels = [0, 1]\n",
    "cm = confusion_matrix(test_data_labels, preds, labels)\n",
    "cm = cm.astype('float') / cm.sum(axis=1)[:, np.newaxis]\n",
    "print(cm)\n",
    "fig = plt.figure()\n",
    "ax = fig.add_subplot(111)\n",
    "cax = ax.matshow(cm)\n",
    "plt.title('Confusion matrix of the classifier')\n",
    "fig.colorbar(cax)\n",
    "ax.set_xticklabels([''] + labels)\n",
    "ax.set_yticklabels([''] + labels)\n",
    "plt.xlabel('Predicted')\n",
    "plt.ylabel('True')\n",
    "plt.show()"
   ]
  }
 ],
 "metadata": {
  "anaconda-cloud": {},
  "kernelspec": {
   "display_name": "Python 3",
   "language": "python",
   "name": "python3"
  },
  "language_info": {
   "codemirror_mode": {
    "name": "ipython",
    "version": 3
   },
   "file_extension": ".py",
   "mimetype": "text/x-python",
   "name": "python",
   "nbconvert_exporter": "python",
   "pygments_lexer": "ipython3",
   "version": "3.6.1"
  }
 },
 "nbformat": 4,
 "nbformat_minor": 2
}
