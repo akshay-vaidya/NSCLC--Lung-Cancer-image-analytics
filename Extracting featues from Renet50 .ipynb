{
 "cells": [
  {
   "cell_type": "code",
   "execution_count": 16,
   "metadata": {
    "collapsed": true
   },
   "outputs": [],
   "source": [
    "import warnings\n",
    "warnings.filterwarnings(\"ignore\")\n",
    "import sys,os\n",
    "from six.moves import reload_module\n",
    "import numpy as np\n",
    "import dicom\n",
    "import glob\n",
    "import matplotlib\n",
    "from matplotlib import pyplot as plt\n",
    "#import cv2\n",
    "import pandas as pd\n",
    "import time\n",
    "import h5py\n",
    "from sklearn import cross_validation\n",
    "from keras.applications.resnet50 import preprocess_input, decode_predictions, ResNet50\n",
    "from keras import backend as K\n",
    "from os import environ\n",
    "import keras\n",
    "from keras.preprocessing import image"
   ]
  },
  {
   "cell_type": "markdown",
   "metadata": {},
   "source": [
    "### Function to extract 3d image from the slices"
   ]
  },
  {
   "cell_type": "code",
   "execution_count": 17,
   "metadata": {
    "collapsed": true
   },
   "outputs": [],
   "source": [
    "def get_3d_data(p):\n",
    "    path = INPUT_FOLDER + '\\\\' + p\n",
    "    p1 = os.listdir(path)[0]\n",
    "    p2 = os.listdir(path + '\\\\' + p1)\n",
    "    files= os.listdir(path + '\\\\' + p1 + '\\\\' + p2[0]) \n",
    "    if len(files) > 1:\n",
    "        slices = [dicom.read_file(path + '\\\\' +p1 + '\\\\' + p2[0] + '\\\\' + s) for s in os.listdir(path + '\\\\' +p1 + '\\\\' + p2[0])]\n",
    "    else:\n",
    "        slices = [dicom.read_file(path + '\\\\' +p1 + '\\\\' + p2[1] + '\\\\' + s) for s in os.listdir(path + '\\\\' +p1 + '\\\\' + p2[1])]\n",
    "    slices.sort(key=lambda x: int(x.InstanceNumber))\n",
    "    return np.stack([s.pixel_array for s in slices])"
   ]
  },
  {
   "cell_type": "markdown",
   "metadata": {},
   "source": [
    "### Function to extract image cubes to be passed as input the CNN model"
   ]
  },
  {
   "cell_type": "code",
   "execution_count": 18,
   "metadata": {
    "collapsed": true
   },
   "outputs": [],
   "source": [
    "def get_image_cubes(patient):\n",
    "    scan_img = get_3d_data(patient)\n",
    "    scan_img[scan_img == -2000] = 0\n",
    "    img_cubes = []\n",
    "    for i in range(0, scan_img.shape[0] - 3, 3):\n",
    "        tmp = []\n",
    "        for j in range(3):\n",
    "            img = scan_img[i + j] \n",
    "            img = 255.0 / np.amax(img) * img #Pixel Normalization\n",
    "            img = cv2.equalizeHist(img.astype(np.uint8)) #Histogram equalization\n",
    "            img = img.astype(np.uint8)\n",
    "            img = img[50: 450, 50: 450] # Crop image\n",
    "            img = cv2.resize(img, (224, 224))\n",
    "            tmp.append(img)\n",
    "        tmp = np.array(tmp)\n",
    "        tmp = np.swapaxes(tmp,0,2)\n",
    "        img_cubes.append(np.array(tmp))   \n",
    "    img_cubes = np.array(img_cubes, dtype='int')\n",
    "    return img_cubes"
   ]
  },
  {
   "cell_type": "markdown",
   "metadata": {},
   "source": [
    "### Extract features from Resnet50 model (pretrained in imagenet weights)"
   ]
  },
  {
   "cell_type": "code",
   "execution_count": 19,
   "metadata": {
    "collapsed": true
   },
   "outputs": [],
   "source": [
    "INPUT_FOLDER = '.\\\\NSCLC-Radiomics\\\\'\n",
    "patients = os.listdir(INPUT_FOLDER)\n",
    "model = ResNet50(weights='imagenet', include_top=False)"
   ]
  },
  {
   "cell_type": "code",
   "execution_count": 20,
   "metadata": {},
   "outputs": [],
   "source": [
    "for patient in patients:\n",
    "    a= get_image_cubes(patient)\n",
    "    feat_fold = '.\\\\resnet_features\\\\'\n",
    "    feats = model.predict(img_cubes, verbose=1)\n",
    "    feats = np.mean(feats,axis=0).flatten() # Average pool & Flatten operation\n",
    "    np.save(os.path.join(feat_fold, patient), feats)\n",
    "    break"
   ]
  },
  {
   "cell_type": "markdown",
   "metadata": {},
   "source": [
    "### Splitting training and test dataset (Maintaining the same data distribution)"
   ]
  },
  {
   "cell_type": "code",
   "execution_count": 22,
   "metadata": {},
   "outputs": [],
   "source": [
    "import pandas as pd\n",
    "dat_all=pd.read_csv('dat_all.csv')"
   ]
  },
  {
   "cell_type": "code",
   "execution_count": 23,
   "metadata": {
    "collapsed": true
   },
   "outputs": [],
   "source": [
    "import random\n",
    "class1 = list(dat_all[dat_all['class']==0]['PatientID'])\n",
    "class2 = list(dat_all[dat_all['class']==1]['PatientID'])"
   ]
  },
  {
   "cell_type": "code",
   "execution_count": 24,
   "metadata": {},
   "outputs": [],
   "source": [
    "class1_test = class1[0:int((len(class1)) * 0.2)]\n",
    "class2_test = class2[0:int((len(class2)) * 0.2)]\n",
    "test_data = class1_test + class2_test \n",
    "train_data = [x for x in dat_all['PatientID'] if x not in test_data]\n",
    "train_data_labels =[]\n",
    "for a in train_data:\n",
    "    train_data_labels.append(list(dat_all[dat_all['PatientID']==a]['class'])[0])\n",
    "test_data_labels = []\n",
    "for a in test_data:\n",
    "    test_data_labels.append(list(dat_all[dat_all['PatientID']==a]['class'])[0])"
   ]
  },
  {
   "cell_type": "markdown",
   "metadata": {
    "collapsed": true
   },
   "source": [
    "### Training a Fully connect Neural Network on the features extracted from Resnet model"
   ]
  },
  {
   "cell_type": "code",
   "execution_count": 27,
   "metadata": {
    "collapsed": true
   },
   "outputs": [],
   "source": [
    "import numpy\n",
    "import pandas\n",
    "from keras.models import Sequential\n",
    "from keras.layers import Dense, Dropout, Convolution2D, MaxPooling2D, ZeroPadding2D, Flatten\n",
    "from keras.wrappers.scikit_learn import KerasClassifier\n",
    "from keras.utils import np_utils\n",
    "from sklearn.model_selection import cross_val_score\n",
    "from sklearn.model_selection import KFold\n",
    "from sklearn.preprocessing import LabelEncoder\n",
    "from sklearn.pipeline import Pipeline\n",
    "from keras.optimizers import SGD\n",
    "from keras.callbacks import History, EarlyStopping, ReduceLROnPlateau, ModelCheckpoint\n",
    "from sklearn.preprocessing import LabelEncoder\n",
    "from keras.utils import np_utils"
   ]
  },
  {
   "cell_type": "code",
   "execution_count": 28,
   "metadata": {
    "collapsed": true
   },
   "outputs": [],
   "source": [
    "x1 = np.array([np.load('./resnet_features/' + idd + '.npy') for idd in train_data])\n",
    "y1 = np.array(train_data_labels)"
   ]
  },
  {
   "cell_type": "code",
   "execution_count": 29,
   "metadata": {
    "collapsed": true
   },
   "outputs": [],
   "source": [
    "# encode class values as integers\n",
    "encoder = LabelEncoder()\n",
    "encoder.fit(y1)\n",
    "encoded_Y = encoder.transform(y1)\n",
    "# convert integers to dummy variables (i.e. one hot encoded)\n",
    "dummy_y = np_utils.to_categorical(encoded_Y)"
   ]
  },
  {
   "cell_type": "code",
   "execution_count": 30,
   "metadata": {
    "collapsed": true
   },
   "outputs": [],
   "source": [
    "model = Sequential()\n",
    "model.add(Dense(2048, input_dim=2048, activation='relu'))\n",
    "model.add(Dense(512, activation='relu'))\n",
    "model.add(Dropout(0.5))\n",
    "model.add(Dense(128, activation='relu'))\n",
    "model.add(Dropout(0.5))\n",
    "model.add(Dense(2, activation='softmax'))\n",
    "# Compile model\n",
    "\n",
    "sgd = SGD(lr=0.0001, decay=1e-6, momentum=0.9, nesterov=True)\n",
    "model.compile(loss='categorical_crossentropy', optimizer=sgd, metrics=['accuracy'])"
   ]
  },
  {
   "cell_type": "code",
   "execution_count": 69,
   "metadata": {},
   "outputs": [
    {
     "name": "stdout",
     "output_type": "stream",
     "text": [
      "Train on 270 samples, validate on 68 samples\n",
      "Epoch 1/20\n",
      "800/800 [==============================] - 209s 261ms/step - loss: 1.2910 - acc: 0.4150 - val_loss: 0.7546 - val_acc: 0.5735\n",
      "\n",
      "Epoch 00001: val_loss improved from inf to 0.75462, saving model to lung_cancer_lifetime_resnet.h5\n",
      "Epoch 2/20\n",
      "800/800 [==============================] - 280s 350ms/step - loss: 1.0324 - acc: 0.5982 - val_loss: 0.6261 - val_acc: 0.6765\n",
      "\n",
      "Epoch 00002: val_loss improved from 0.75462 to 0.62609, saving model to lung_cancer_lifetime_resnet.h5\n",
      "Epoch 3/20\n",
      "800/800 [==============================] - 276s 345ms/step - loss: 0.7984 - acc: 0.7436 - val_loss: 0.5145 - val_acc: 0.7794\n",
      "\n",
      "Epoch 00003: val_loss improved from 0.62609 to 0.51446, saving model to lung_cancer_lifetime_resnet.h5\n",
      "Epoch 4/20\n",
      "800/800 [==============================] - 289s 361ms/step - loss: 0.5590 - acc: 0.8548 - val_loss: 0.4231 - val_acc: 0.7941\n",
      "\n",
      "Epoch 00004: val_loss improved from 0.51446 to 0.42315, saving model to lung_cancer_lifetime_resnet.h5\n",
      "Epoch 5/20\n",
      "800/800 [==============================] - 268s 334ms/step - loss: 0.3669 - acc: 0.9252 - val_loss: 0.3725 - val_acc: 0.8088\n",
      "\n",
      "Epoch 00005: val_loss improved from 0.42315 to 0.37253, saving model to lung_cancer_lifetime_resnet.h5\n",
      "Epoch 6/20\n",
      "800/800 [==============================] - 292s 365ms/step - loss: 0.2382 - acc: 0.9608 - val_loss: 0.3596 - val_acc: 0.8382\n",
      "\n",
      "Epoch 00006: val_loss improved from 0.37253 to 0.35957, saving model to lung_cancer_lifetime_resnet.h5\n",
      "Epoch 7/20\n",
      "800/800 [==============================] - 290s 363ms/step - loss: 0.1573 - acc: 0.9797 - val_loss: 0.3492 - val_acc: 0.8382\n",
      "\n",
      "Epoch 00007: val_loss improved from 0.35957 to 0.34920, saving model to lung_cancer_lifetime_resnet.h5\n",
      "Epoch 8/20\n",
      "800/800 [==============================] - 297s 371ms/step - loss: 0.1092 - acc: 0.9890 - val_loss: 0.3475 - val_acc: 0.8382\n",
      "\n",
      "Epoch 00008: val_loss improved from 0.34920 to 0.34746, saving model to lung_cancer_lifetime_resnet.h5\n",
      "Epoch 9/20\n",
      "800/800 [==============================] - 286s 358ms/step - loss: 0.0789 - acc: 0.9942 - val_loss: 0.3590 - val_acc: 0.8382\n",
      "\n",
      "Epoch 00009: val_loss did not improve\n",
      "Epoch 10/20\n",
      "800/800 [==============================] - 292s 365ms/step - loss: 0.0601 - acc: 0.9965 - val_loss: 0.3982 - val_acc: 0.8382\n",
      "\n",
      "Epoch 00010: val_loss did not improve\n",
      "Epoch 11/20\n",
      "800/800 [==============================] - 298s 373ms/step - loss: 0.0468 - acc: 0.9978 - val_loss: 0.3700 - val_acc: 0.8382\n",
      "\n",
      "Epoch 00011: val_loss did not improve\n",
      "Epoch 12/20\n",
      "800/800 [==============================] - 295s 369ms/step - loss: 0.0385 - acc: 0.9985 - val_loss: 0.3997 - val_acc: 0.8382\n",
      "\n",
      "Epoch 00012: val_loss did not improve\n",
      "Epoch 13/20\n",
      "800/800 [==============================] - 289s 361ms/step - loss: 0.0320 - acc: 0.9989 - val_loss: 0.4043 - val_acc: 0.8382\n",
      "\n",
      "Epoch 00013: val_loss did not improve\n",
      "Epoch 00013: early stopping\n"
     ]
    }
   ],
   "source": [
    "callbacks = [EarlyStopping(monitor='val_loss', min_delta=10**-7, patience=5, verbose=1, mode='auto'),\n",
    "                ModelCheckpoint('lung_cancer_lifetime_resnet.h5', monitor='val_loss', verbose=1, save_best_only=True, save_weights_only=False, mode='auto', period=1)]\n",
    "history=model.fit(x1,dummy_y, steps_per_epoch= 800,validation_steps=10, epochs=20, verbose=1, validation_split=0.2, shuffle= True, class_weight= {0: 1.0, 1: 5}, callbacks=callbacks)"
   ]
  },
  {
   "cell_type": "code",
   "execution_count": 70,
   "metadata": {},
   "outputs": [
    {
     "name": "stdout",
     "output_type": "stream",
     "text": [
      "['acc', 'loss', 'val_acc', 'val_loss']\n"
     ]
    },
    {
     "data": {
      "image/png": "[encoded data removed]",
      "text/plain": [
       "<matplotlib.figure.Figure at 0x7f9dc8ef68d0>"
      ]
     },
     "metadata": {},
     "output_type": "display_data"
    },
    {
     "data": {
      "image/png": "[encoded data removed]",
      "text/plain": [
       "<matplotlib.figure.Figure at 0x7f9dc8e9b990>"
      ]
     },
     "metadata": {},
     "output_type": "display_data"
    }
   ],
   "source": [
    "# list all data in history\n",
    "print(history.history.keys())\n",
    "# summarize history for accuracy\n",
    "plt.plot(history.history['acc'])\n",
    "plt.plot(history.history['val_acc'])\n",
    "plt.title('model accuracy')\n",
    "plt.ylabel('accuracy')\n",
    "plt.xlabel('epoch')\n",
    "plt.legend(['train', 'test'], loc='upper left')\n",
    "plt.show()\n",
    "# summarize history for loss\n",
    "plt.plot(history.history['loss'])\n",
    "plt.plot(history.history['val_loss'])\n",
    "plt.title('model loss')\n",
    "plt.ylabel('loss')\n",
    "plt.xlabel('epoch')\n",
    "plt.legend(['train', 'test'], loc='upper left')\n",
    "plt.show()"
   ]
  },
  {
   "cell_type": "markdown",
   "metadata": {},
   "source": [
    "## Evaluating Model on test data"
   ]
  },
  {
   "cell_type": "code",
   "execution_count": 19,
   "metadata": {
    "collapsed": true
   },
   "outputs": [],
   "source": [
    "test_x = np.array([np.load('./resnet_features/' + idd + '.npy') for idd in test_data])\n",
    "test_y = np.array(test_data_labels)"
   ]
  },
  {
   "cell_type": "code",
   "execution_count": 23,
   "metadata": {
    "collapsed": true
   },
   "outputs": [],
   "source": [
    "# encode class values as integers\n",
    "encoder = LabelEncoder()\n",
    "encoder.fit(test_y)\n",
    "encoded_Y = encoder.transform(test_y)\n",
    "dummy_test_y = np_utils.to_categorical(encoded_Y)"
   ]
  },
  {
   "cell_type": "code",
   "execution_count": 24,
   "metadata": {},
   "outputs": [
    {
     "name": "stdout",
     "output_type": "stream",
     "text": [
      "84/84 [==============================] - 0s 3ms/step\n",
      "[0.9076082025255475, 0.7261904761904762]\n",
      "['loss', 'acc']\n"
     ]
    }
   ],
   "source": [
    "print (model.evaluate(test_x,dummy_test_y, verbose=1))\n",
    "\n",
    "print (model.metrics_names)"
   ]
  },
  {
   "cell_type": "markdown",
   "metadata": {},
   "source": [
    "### ROC curve"
   ]
  },
  {
   "cell_type": "code",
   "execution_count": 25,
   "metadata": {
    "collapsed": true
   },
   "outputs": [],
   "source": [
    "y_pred_keras = model.predict_proba(test_x)\n",
    "y_pred =[]\n",
    "for a in y_pred_keras:\n",
    "    if a[0] > a[1]:\n",
    "        y_pred.append(0)\n",
    "    else:\n",
    "        y_pred.append(1)\n",
    "y_pred = np.array(y_pred)"
   ]
  },
  {
   "cell_type": "code",
   "execution_count": 27,
   "metadata": {
    "collapsed": true
   },
   "outputs": [],
   "source": [
    "from sklearn.metrics import roc_curve, auc\n",
    "y_pred_keras = model.predict_proba(test_x)\n",
    "fpr_keras_resnet, tpr_keras_resnet, thresholds_keras = roc_curve(test_y.ravel(), y_pred.ravel())\n",
    "roc_auc = auc(fpr_keras_resnet, tpr_keras_resnet)"
   ]
  },
  {
   "cell_type": "code",
   "execution_count": 28,
   "metadata": {},
   "outputs": [
    {
     "data": {
      "image/png": "[encoded data removed]",
      "text/plain": [
       "<matplotlib.figure.Figure at 0x7f99b944a310>"
      ]
     },
     "metadata": {},
     "output_type": "display_data"
    }
   ],
   "source": [
    "plt.figure()\n",
    "lw = 2\n",
    "plt.plot(fpr_keras_resnet, tpr_keras_resnet, color='darkorange',\n",
    "         lw=lw, label='ROC curve (area = %0.2f)' % roc_auc)\n",
    "plt.plot([0, 1], [0, 1], color='navy', lw=lw, linestyle='--')\n",
    "plt.xlim([0.0, 1.0])\n",
    "plt.ylim([0.0, 1.05])\n",
    "plt.xlabel('False Positive Rate')\n",
    "plt.ylabel('True Positive Rate')\n",
    "plt.title('Receiver operating characteristic example')\n",
    "plt.legend(loc=\"lower right\")\n",
    "plt.show()"
   ]
  },
  {
   "cell_type": "markdown",
   "metadata": {},
   "source": [
    "### Confusion Matrix"
   ]
  },
  {
   "cell_type": "code",
   "execution_count": 29,
   "metadata": {
    "collapsed": true
   },
   "outputs": [],
   "source": [
    "preds = []\n",
    "for a in y_pred_keras:\n",
    "    if a[0] > a[1]:\n",
    "        preds.append(0)\n",
    "    else:\n",
    "        preds.append(1)"
   ]
  },
  {
   "cell_type": "code",
   "execution_count": 30,
   "metadata": {},
   "outputs": [
    {
     "name": "stdout",
     "output_type": "stream",
     "text": [
      "[[0.86153846 0.13846154]\n",
      " [0.73684211 0.26315789]]\n"
     ]
    },
    {
     "data": {
      "image/png": "[encoded data removed]",
      "text/plain": [
       "<matplotlib.figure.Figure at 0x7f99c2ecded0>"
      ]
     },
     "metadata": {},
     "output_type": "display_data"
    }
   ],
   "source": [
    "from sklearn.metrics import confusion_matrix\n",
    "\n",
    "labels = [0, 1]\n",
    "cm = confusion_matrix(test_data_labels, preds, labels)\n",
    "cm = cm.astype('float') / cm.sum(axis=1)[:, np.newaxis]\n",
    "print(cm)\n",
    "fig = plt.figure()\n",
    "ax = fig.add_subplot(111)\n",
    "cax = ax.matshow(cm)\n",
    "plt.title('Confusion matrix of the classifier')\n",
    "fig.colorbar(cax)\n",
    "ax.set_xticklabels([''] + labels)\n",
    "ax.set_yticklabels([''] + labels)\n",
    "plt.xlabel('Predicted')\n",
    "plt.ylabel('True')\n",
    "plt.show()"
   ]
  }
 ],
 "metadata": {
  "anaconda-cloud": {},
  "kernelspec": {
   "display_name": "Python 3",
   "language": "python",
   "name": "python3"
  },
  "language_info": {
   "codemirror_mode": {
    "name": "ipython",
    "version": 3
   },
   "file_extension": ".py",
   "mimetype": "text/x-python",
   "name": "python",
   "nbconvert_exporter": "python",
   "pygments_lexer": "ipython3",
   "version": "3.6.1"
  }
 },
 "nbformat": 4,
 "nbformat_minor": 2
}
